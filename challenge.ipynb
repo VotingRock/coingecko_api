{
 "cells": [
  {
   "cell_type": "markdown",
   "metadata": {},
   "source": [
    "# Coding Challenge - Bitcoin Price\n",
    "\n",
    "Objective:\n",
    "\n",
    "Develop an automated and scalable process to obtain the 5-day moving\n",
    "average of Bitcoin’s price during the first quarter of 2022."
   ]
  },
  {
   "cell_type": "markdown",
   "metadata": {},
   "source": [
    "## List of cryptocurrencies\n",
    "\n",
    "Retrieve a list of all cryptocurrencies with id, name, and symbol (using the\n",
    "CoinGecko API)."
   ]
  },
  {
   "cell_type": "markdown",
   "metadata": {},
   "source": [
    "Coingecko has an API for querying the list of currencies it handles\n",
    "https://docs.coingecko.com/reference/coins-list"
   ]
  },
  {
   "cell_type": "code",
   "execution_count": null,
   "metadata": {},
   "outputs": [],
   "source": [
    "import requests\n",
    "import logging\n",
    "\n",
    "logging.basicConfig( # Log to safe messages and errors\n",
    "    filename='./log/crypto_api_steps_ipynb.log',\n",
    "    level=logging.INFO,\n",
    "    format='%(asctime)s - %(levelname)s - %(message)s'\n",
    ")\n",
    "\n",
    "url = 'https://api.coingecko.com/api/v3/coins/list' # API link\n",
    "\n",
    "logging.info('Starting conection ...')\n",
    "\n",
    "try: \n",
    "    response = requests.get(url) # Conection and request\n",
    "    coins = response.json()\n",
    "\n",
    "    logging.info('Conection works!')\n",
    "\n",
    "    data_coins = [{'id': record['id'], # Start with the request format \n",
    "                'name': record['name'],\n",
    "                'symbol': record['symbol']}\n",
    "                for record in coins[:][:]\n",
    "                ]\n",
    "\n",
    "except requests.exceptions.RequestException as e:\n",
    "    logging.error(f'CoinGecko call fails: {e}')\n",
    "    print('Something fails in the call')\n",
    "except KeyError as e:\n",
    "    logging.error(f'CoinGecko key missing: {e}')\n",
    "    print('Something fails with the paramethers')\n",
    "except Exception as e:\n",
    "    logging.error(f'Unexpected error: {e}')\n",
    "    print('Something fails unexpected')"
   ]
  },
  {
   "cell_type": "markdown",
   "metadata": {},
   "source": [
    "### Result"
   ]
  },
  {
   "cell_type": "code",
   "execution_count": 2,
   "metadata": {},
   "outputs": [
    {
     "data": {
      "text/plain": [
       "[{'id': '_', 'name': '༼ つ ◕_◕ ༽つ', 'symbol': 'gib'},\n",
       " {'id': '01coin', 'name': '01coin', 'symbol': 'zoc'},\n",
       " {'id': '0chain', 'name': 'Züs', 'symbol': 'zcn'},\n",
       " {'id': '0dog', 'name': 'Bitcoin Dogs', 'symbol': '0dog'},\n",
       " {'id': '0-knowledge-network', 'name': '0 Knowledge Network', 'symbol': '0kn'},\n",
       " {'id': '0-mee', 'name': 'O-MEE', 'symbol': 'ome'},\n",
       " {'id': '0vix-protocol', 'name': '0VIX Protocol', 'symbol': 'vix'},\n",
       " {'id': '0x', 'name': '0x Protocol', 'symbol': 'zrx'},\n",
       " {'id': '0x0-ai-ai-smart-contract',\n",
       "  'name': '0x0.ai: AI Smart Contract',\n",
       "  'symbol': '0x0'},\n",
       " {'id': '0x678-landwolf-1933', 'name': 'Landwolf', 'symbol': 'wolf'}]"
      ]
     },
     "execution_count": 2,
     "metadata": {},
     "output_type": "execute_result"
    }
   ],
   "source": [
    "data_coins[:10]"
   ]
  },
  {
   "cell_type": "markdown",
   "metadata": {},
   "source": [
    "##  ID de Bitcoin\n",
    "\n",
    "Retrieve the Bitcoin coin id."
   ]
  },
  {
   "cell_type": "code",
   "execution_count": 2,
   "metadata": {},
   "outputs": [
    {
     "name": "stdout",
     "output_type": "stream",
     "text": [
      "bitcoin\n"
     ]
    }
   ],
   "source": [
    "bitcoin_id = [coin['id'] for coin in data_coins if coin['name'].lower() == 'bitcoin'][0] # Filter for bitcoin in the list\n",
    "print(bitcoin_id)"
   ]
  },
  {
   "cell_type": "markdown",
   "metadata": {},
   "source": [
    "## Bitcoin's price \n",
    "\n",
    "Get Bitcoin’s price in USD and by date for the first quarter of 2022 (using the\n",
    "CoinGecko API).\n"
   ]
  },
  {
   "cell_type": "markdown",
   "metadata": {},
   "source": [
    "IMPORTANT: Because I'm using a DEMO API, can only have data from one year ago. So I have used the data from the first quarter of 2025"
   ]
  },
  {
   "cell_type": "markdown",
   "metadata": {},
   "source": [
    "### Code with pandas"
   ]
  },
  {
   "cell_type": "code",
   "execution_count": null,
   "metadata": {},
   "outputs": [],
   "source": [
    "import pandas as pd\n",
    "import time\n",
    "import os\n",
    "import logging\n",
    "from datetime import datetime, timedelta\n",
    "\n",
    "logging.info('PANDAS WORKING')\n",
    "\n",
    "os.environ['API_KEY'] = 'CG-iK1NXQDV8YPsEAJxTNTjJXL4' # Key from \n",
    "API_KEY = os.getenv('API_KEY')\n",
    "\n",
    "start_date = '2025-01-01'\n",
    "end_date = '2025-03-31'\n",
    "window_time = 5\n",
    "coin = 'bitcoin'\n",
    "vs_currency = 'usd'\n",
    "\n",
    "# Dates to UNIX\n",
    "start_adjusted = datetime.strptime(start_date, '%Y-%m-%d') - timedelta(days=window_time) # We will need data from the 5 previous days\n",
    "start_ts = int(time.mktime(start_adjusted.timetuple()))\n",
    "end_ts = int(time.mktime(datetime.strptime(end_date, '%Y-%m-%d').timetuple()))\n",
    "\n",
    "# API definition\n",
    "url = f'https://api.coingecko.com/api/v3/coins/{coin}/market_chart/range?vs_currency={vs_currency}&from={start_ts}&to={end_ts}'\n",
    "headers = {\n",
    "    'accept': 'application/json',\n",
    "    'x-cg-demo-api-key': API_KEY\n",
    "    }\n",
    "\n",
    "logging.info('Calling CoinGecko...')\n",
    "\n",
    "try: \n",
    "\n",
    "    response = requests.get(url, headers=headers)\n",
    "    data = response.json()\n",
    "\n",
    "    logging.info('Conection works')\n",
    "    logging.info('Start creating Dataframe')\n",
    "\n",
    "    prices = data['prices']\n",
    "    df = pd.DataFrame(prices, columns=['timestamp', 'price'])\n",
    "    df['date'] = pd.to_datetime(df['timestamp'], unit='ms')\n",
    "    df = df[['date', 'price']].drop_duplicates('date')\n",
    "    df.sort_values('date', inplace=True)\n",
    "\n",
    "except requests.exceptions.RequestException as e:\n",
    "    logging.error(f'CoinGecko call fails: {e}')\n",
    "    print('Something fails in the call')\n",
    "except KeyError as e:\n",
    "    logging.error(f'CoinGecko key missing: {e}')\n",
    "    print('Something fails with the paramethers')\n",
    "except Exception as e:\n",
    "    logging.error(f'Unexpected error: {e}')\n",
    "    print('Something fails unexpected')"
   ]
  },
  {
   "cell_type": "markdown",
   "metadata": {},
   "source": [
    "#### Result"
   ]
  },
  {
   "cell_type": "code",
   "execution_count": 19,
   "metadata": {},
   "outputs": [
    {
     "data": {
      "text/html": [
       "<div>\n",
       "<style scoped>\n",
       "    .dataframe tbody tr th:only-of-type {\n",
       "        vertical-align: middle;\n",
       "    }\n",
       "\n",
       "    .dataframe tbody tr th {\n",
       "        vertical-align: top;\n",
       "    }\n",
       "\n",
       "    .dataframe thead th {\n",
       "        text-align: right;\n",
       "    }\n",
       "</style>\n",
       "<table border=\"1\" class=\"dataframe\">\n",
       "  <thead>\n",
       "    <tr style=\"text-align: right;\">\n",
       "      <th></th>\n",
       "      <th>date</th>\n",
       "      <th>price</th>\n",
       "    </tr>\n",
       "  </thead>\n",
       "  <tbody>\n",
       "    <tr>\n",
       "      <th>0</th>\n",
       "      <td>2024-12-28</td>\n",
       "      <td>94331.947271</td>\n",
       "    </tr>\n",
       "    <tr>\n",
       "      <th>1</th>\n",
       "      <td>2024-12-29</td>\n",
       "      <td>95184.619453</td>\n",
       "    </tr>\n",
       "    <tr>\n",
       "      <th>2</th>\n",
       "      <td>2024-12-30</td>\n",
       "      <td>93663.447520</td>\n",
       "    </tr>\n",
       "    <tr>\n",
       "      <th>3</th>\n",
       "      <td>2024-12-31</td>\n",
       "      <td>92627.282131</td>\n",
       "    </tr>\n",
       "    <tr>\n",
       "      <th>4</th>\n",
       "      <td>2025-01-01</td>\n",
       "      <td>93507.858747</td>\n",
       "    </tr>\n",
       "    <tr>\n",
       "      <th>...</th>\n",
       "      <td>...</td>\n",
       "      <td>...</td>\n",
       "    </tr>\n",
       "    <tr>\n",
       "      <th>89</th>\n",
       "      <td>2025-03-27</td>\n",
       "      <td>86960.855549</td>\n",
       "    </tr>\n",
       "    <tr>\n",
       "      <th>90</th>\n",
       "      <td>2025-03-28</td>\n",
       "      <td>87227.271580</td>\n",
       "    </tr>\n",
       "    <tr>\n",
       "      <th>91</th>\n",
       "      <td>2025-03-29</td>\n",
       "      <td>84359.469155</td>\n",
       "    </tr>\n",
       "    <tr>\n",
       "      <th>92</th>\n",
       "      <td>2025-03-30</td>\n",
       "      <td>82679.172554</td>\n",
       "    </tr>\n",
       "    <tr>\n",
       "      <th>93</th>\n",
       "      <td>2025-03-31</td>\n",
       "      <td>82356.381112</td>\n",
       "    </tr>\n",
       "  </tbody>\n",
       "</table>\n",
       "<p>94 rows × 2 columns</p>\n",
       "</div>"
      ],
      "text/plain": [
       "         date         price\n",
       "0  2024-12-28  94331.947271\n",
       "1  2024-12-29  95184.619453\n",
       "2  2024-12-30  93663.447520\n",
       "3  2024-12-31  92627.282131\n",
       "4  2025-01-01  93507.858747\n",
       "..        ...           ...\n",
       "89 2025-03-27  86960.855549\n",
       "90 2025-03-28  87227.271580\n",
       "91 2025-03-29  84359.469155\n",
       "92 2025-03-30  82679.172554\n",
       "93 2025-03-31  82356.381112\n",
       "\n",
       "[94 rows x 2 columns]"
      ]
     },
     "execution_count": 19,
     "metadata": {},
     "output_type": "execute_result"
    }
   ],
   "source": [
    "df"
   ]
  },
  {
   "cell_type": "markdown",
   "metadata": {},
   "source": [
    "### Code with Spark (scalable)"
   ]
  },
  {
   "cell_type": "code",
   "execution_count": null,
   "metadata": {},
   "outputs": [
    {
     "name": "stderr",
     "output_type": "stream",
     "text": [
      "25/04/11 12:11:57 WARN Utils: Your hostname, MPVoting.local resolves to a loopback address: 127.0.0.1; using 192.168.1.15 instead (on interface en0)\n",
      "25/04/11 12:11:57 WARN Utils: Set SPARK_LOCAL_IP if you need to bind to another address\n",
      "25/04/11 12:11:57 WARN NativeCodeLoader: Unable to load native-hadoop library for your platform... using builtin-java classes where applicable\n",
      "Setting default log level to \"WARN\".\n",
      "To adjust logging level use sc.setLogLevel(newLevel). For SparkR, use setLogLevel(newLevel).\n",
      "25/04/11 12:11:58 WARN Utils: Service 'SparkUI' could not bind on port 4040. Attempting port 4041.\n"
     ]
    }
   ],
   "source": [
    "import requests\n",
    "import time\n",
    "import os\n",
    "import logging\n",
    "from datetime import datetime, timedelta\n",
    "from pyspark.sql import SparkSession # Using spark to manage the data from the API\n",
    "from pyspark.sql.types import StructType, StructField, LongType, DoubleType\n",
    "logging.info('SPARK WORKING')\n",
    "logging.info('-------------API CONECTION-------------')\n",
    "\n",
    "API_KEY = os.getenv('API_KEY')\n",
    "JDBC_JAR = os.getenv('JDBC_JAR')\n",
    "\n",
    "# IMPORTANT: The dates are in UTC timezone\n",
    "start_date = '2025-01-01'\n",
    "end_date = '2025-03-31'\n",
    "window_time = 5\n",
    "coin = 'bitcoin'\n",
    "vs_currency = 'usd'\n",
    "\n",
    "# Dates to UNIX\n",
    "start_adjusted = datetime.strptime(start_date, '%Y-%m-%d') - timedelta(days=window_time) # We will need data from the 5 previous days\n",
    "start_ts = int(time.mktime(start_adjusted.timetuple()))\n",
    "end_ts = int(time.mktime(datetime.strptime(end_date, '%Y-%m-%d').timetuple()))\n",
    "\n",
    "# API definition\n",
    "url = f'https://api.coingecko.com/api/v3/coins/{coin}/market_chart/range?vs_currency={vs_currency}&from={start_ts}&to={end_ts}'\n",
    "headers = {\n",
    "    'accept': 'application/json',\n",
    "    'x-cg-demo-api-key': API_KEY\n",
    "    }\n",
    "\n",
    "logging.info('Calling CoinGecko...')\n",
    "\n",
    "try: \n",
    "\n",
    "    response = requests.get(url, headers=headers)\n",
    "    data = response.json()\n",
    "\n",
    "    logging.info('Conection works')\n",
    "    logging.info('Start creating Dataframe')\n",
    "\n",
    "    # Spark session\n",
    "    spark = SparkSession.builder.appName('CoinGecko Data')  \\\n",
    "        .config('spark.jars', JDBC_JAR) \\\n",
    "        .getOrCreate()\n",
    "    \n",
    "    spark.conf.set('spark.sql.session.timeZone', 'UTC')\n",
    "\n",
    "    # Schema\n",
    "    schema = StructType([\n",
    "        StructField('timestamp', LongType(), True),\n",
    "        StructField('price', DoubleType(), True)\n",
    "    ])\n",
    "\n",
    "    # DataFrame\n",
    "    df_spark = spark.createDataFrame(data['prices'], schema=schema)\n",
    "\n",
    "    logging.info('Spark dataframe ready')\n",
    "\n",
    "    \n",
    "except requests.exceptions.RequestException as e:\n",
    "    logging.error(f'CoinGecko call fails: {e}')\n",
    "    print('Something fails in the call')\n",
    "except KeyError as e:\n",
    "    logging.error(f'CoinGecko key missing: {e}')\n",
    "    print('Something fails with the paramethers')\n",
    "except Exception as e:\n",
    "    logging.error(f'Unexpected error: {e}')\n",
    "    print('Something fails unexpected')"
   ]
  },
  {
   "cell_type": "markdown",
   "metadata": {},
   "source": [
    "#### Result"
   ]
  },
  {
   "cell_type": "code",
   "execution_count": 32,
   "metadata": {},
   "outputs": [
    {
     "name": "stdout",
     "output_type": "stream",
     "text": [
      "+-------------+------------------+\n",
      "|    timestamp|             price|\n",
      "+-------------+------------------+\n",
      "|1735344000000| 94331.94727053077|\n",
      "|1735430400000| 95184.61945288602|\n",
      "|1735516800000| 93663.44751964067|\n",
      "|1735603200000| 92627.28213113277|\n",
      "|1735689600000| 93507.85874741491|\n",
      "|1735776000000|  94384.1761153871|\n",
      "|1735862400000| 96852.14681235075|\n",
      "|1735948800000| 98084.34279280754|\n",
      "|1736035200000| 98256.73876849933|\n",
      "|1736121600000| 98364.58946599838|\n",
      "|1736208000000|102229.39453189743|\n",
      "|1736294400000| 96952.09886774956|\n",
      "|1736380800000| 95016.71440989176|\n",
      "|1736467200000| 92376.27578346101|\n",
      "|1736553600000|  94736.6267420969|\n",
      "|1736640000000| 94559.55167224213|\n",
      "|1736726400000| 94454.77089638807|\n",
      "|1736812800000|  94456.3493746993|\n",
      "|1736899200000| 96574.07768799194|\n",
      "|1736985600000|100313.15239828422|\n",
      "+-------------+------------------+\n",
      "only showing top 20 rows\n",
      "\n"
     ]
    }
   ],
   "source": [
    "df_spark.show()"
   ]
  },
  {
   "cell_type": "markdown",
   "metadata": {},
   "source": [
    "## Save data\n",
    "\n",
    "Save the data in the database of your choice."
   ]
  },
  {
   "cell_type": "markdown",
   "metadata": {},
   "source": [
    "### Code with Pandas"
   ]
  },
  {
   "cell_type": "code",
   "execution_count": null,
   "metadata": {},
   "outputs": [
    {
     "data": {
      "text/plain": [
       "94"
      ]
     },
     "execution_count": 20,
     "metadata": {},
     "output_type": "execute_result"
    }
   ],
   "source": [
    "import sqlite3\n",
    "\n",
    "logging.info('PANDAS WORKING')\n",
    "# Saving on SQLite\n",
    "conn = sqlite3.connect('./db/bitcoin_prices.db')\n",
    "df.to_sql('btc_prices', conn, if_exists='replace', index=False)"
   ]
  },
  {
   "cell_type": "markdown",
   "metadata": {},
   "source": [
    "### Code with Spark"
   ]
  },
  {
   "cell_type": "code",
   "execution_count": null,
   "metadata": {},
   "outputs": [
    {
     "name": "stderr",
     "output_type": "stream",
     "text": [
      "[Stage 0:>                                                        (0 + 10) / 10]\r"
     ]
    },
    {
     "name": "stdout",
     "output_type": "stream",
     "text": [
      "Data successfully saved\n"
     ]
    },
    {
     "name": "stderr",
     "output_type": "stream",
     "text": [
      "25/04/11 12:12:38 WARN JdbcUtils: Requested isolation level 1 is not supported; falling back to default isolation level 8\n",
      "25/04/11 12:12:38 WARN JdbcUtils: Requested isolation level 1 is not supported; falling back to default isolation level 8\n",
      "25/04/11 12:12:38 WARN JdbcUtils: Requested isolation level 1 is not supported; falling back to default isolation level 8\n",
      "25/04/11 12:12:38 WARN JdbcUtils: Requested isolation level 1 is not supported; falling back to default isolation level 8\n",
      "25/04/11 12:12:38 WARN JdbcUtils: Requested isolation level 1 is not supported; falling back to default isolation level 8\n",
      "25/04/11 12:12:38 WARN JdbcUtils: Requested isolation level 1 is not supported; falling back to default isolation level 8\n",
      "25/04/11 12:12:38 WARN JdbcUtils: Requested isolation level 1 is not supported; falling back to default isolation level 8\n",
      "25/04/11 12:12:38 WARN JdbcUtils: Requested isolation level 1 is not supported; falling back to default isolation level 8\n",
      "25/04/11 12:12:38 WARN JdbcUtils: Requested isolation level 1 is not supported; falling back to default isolation level 8\n",
      "25/04/11 12:12:38 WARN JdbcUtils: Requested isolation level 1 is not supported; falling back to default isolation level 8\n",
      "                                                                                \r"
     ]
    }
   ],
   "source": [
    "from pyspark.sql.functions import date_format, to_timestamp, col\n",
    "\n",
    "jdbc_url = 'jdbc:sqlite:./db/bitcoin_prices.db'\n",
    "logging.info('SPARK WORKING')\n",
    "logging.info('-------------SAVE DATA-------------')\n",
    "\n",
    "try:\n",
    "    logging.info('Starting saving in to DB...')\n",
    "    # IMPORTANT: The dates are in UTC timezone\n",
    "    df_spark.withColumn('date', (col('timestamp')/1000).cast('timestamp')) \\\n",
    "        .withColumn('date', date_format('date', 'yyyy-MM-dd HH:mm:ssZ')) \\\n",
    "        .select('date', 'price') \\\n",
    "        .write.format('jdbc') \\\n",
    "        .option('url', jdbc_url) \\\n",
    "        .option('dbtable', 'btc_prices_v2') \\\n",
    "        .option('driver', 'org.sqlite.JDBC') \\\n",
    "        .mode('overwrite') \\\n",
    "        .save()\n",
    "    \n",
    "    logging.info('Data successfully saved')\n",
    "    print('Data successfully saved')\n",
    "\n",
    "except Exception as e:\n",
    "    logging.error(f'Unexpected error: {e}')\n",
    "    print(f'Something fails {e}')"
   ]
  },
  {
   "cell_type": "markdown",
   "metadata": {},
   "source": [
    "## 5-day moving average\n",
    "\n",
    "Use the data previously stored in the database to calculate the 5-day\n",
    "moving average using a window/partition function in Python (you may\n",
    "use either pandas or PySpark)."
   ]
  },
  {
   "cell_type": "markdown",
   "metadata": {},
   "source": [
    "Using pyspark for extra point"
   ]
  },
  {
   "cell_type": "code",
   "execution_count": null,
   "metadata": {},
   "outputs": [
    {
     "name": "stderr",
     "output_type": "stream",
     "text": [
      "25/04/11 12:12:48 WARN WindowExec: No Partition Defined for Window operation! Moving all data to a single partition, this can cause serious performance degradation.\n",
      "25/04/11 12:12:48 WARN WindowExec: No Partition Defined for Window operation! Moving all data to a single partition, this can cause serious performance degradation.\n",
      "25/04/11 12:12:48 WARN WindowExec: No Partition Defined for Window operation! Moving all data to a single partition, this can cause serious performance degradation.\n",
      "25/04/11 12:12:48 WARN WindowExec: No Partition Defined for Window operation! Moving all data to a single partition, this can cause serious performance degradation.\n",
      "25/04/11 12:12:48 WARN WindowExec: No Partition Defined for Window operation! Moving all data to a single partition, this can cause serious performance degradation.\n",
      "25/04/11 12:12:48 WARN JdbcUtils: Requested isolation level 1 is not supported; falling back to default isolation level 8\n"
     ]
    }
   ],
   "source": [
    "from pyspark.sql import SparkSession\n",
    "from pyspark.sql.functions import col, avg, min as min_\n",
    "from pyspark.sql.window import Window\n",
    "from datetime import timedelta\n",
    "import pandas as pd\n",
    "\n",
    "jdbc_url = 'jdbc:sqlite:./db/bitcoin_prices.db'\n",
    "logging.info('-------------5 DAY AVG-------------')\n",
    "\n",
    "try: \n",
    "    logging.info('Conecting to the DB...')\n",
    "\n",
    "    df_spark = spark.read.format('jdbc') \\\n",
    "        .option('url', jdbc_url) \\\n",
    "        .option('dbtable', 'btc_prices_v2') \\\n",
    "        .option('driver', 'org.sqlite.JDBC') \\\n",
    "        .load()\n",
    "\n",
    "    logging.info('Conection works')\n",
    "\n",
    "    df_spark = df_spark.withColumn('date', col('date').cast('timestamp'))\n",
    "\n",
    "    window_spec = Window.orderBy('date').rowsBetween(-5 + 1, 0)\n",
    "    df_spark_ma = df_spark.withColumn('5_day_ma', avg('price').over(window_spec))\n",
    "\n",
    "    date_min= df_spark_ma.select(min_('date').alias('date_min')).collect()\n",
    "    lower_date = date_min[0]['date_min']\n",
    "    start_date = lower_date + timedelta(days=5)\n",
    "\n",
    "    logging.info('Finish the window creation. Save data to DB...')\n",
    "\n",
    "    # Save in DB for visualization\n",
    "    # IMPORTANT: The dates are in CST timezone\n",
    "    df_spark_ma.filter(col('date') >= start_date) \\\n",
    "        .withColumn('date', date_format('date', 'yyyy-MM-dd HH:mm:ss')) \\\n",
    "        .select('date', 'price', '5_day_ma') \\\n",
    "        .write \\\n",
    "        .format('jdbc') \\\n",
    "        .option('url', jdbc_url) \\\n",
    "        .option('dbtable', 'btc_ma_5d') \\\n",
    "        .option('driver', 'org.sqlite.JDBC') \\\n",
    "        .mode('overwrite') \\\n",
    "        .save()\n",
    "\n",
    "    logging.info('The data is update')\n",
    "    \n",
    "except Exception as e:\n",
    "    logging.error(f'Unexpected error: {e}')\n",
    "    print(f'Something fails unexpected {e}')"
   ]
  },
  {
   "cell_type": "markdown",
   "metadata": {},
   "source": [
    "## Visualization\n",
    "\n",
    "Use a tool of your choice to visualize the results in a graph\n",
    "(Extra point)."
   ]
  },
  {
   "cell_type": "code",
   "execution_count": null,
   "metadata": {},
   "outputs": [],
   "source": [
    "import pandas as pd\n",
    "import sqlite3\n",
    "import matplotlib.pyplot as plt\n",
    "from matplotlib.pyplot import figure\n",
    "\n",
    "con = sqlite3.connect('./db/bitcoin_prices.db')\n",
    "\n",
    "df = pd.read_sql_query('SELECT date(date) as dt, * from btc_ma_5d ORDER BY dt limit 100', con)\n",
    "last_day = df['dt'][0].replace('-','_')"
   ]
  },
  {
   "cell_type": "code",
   "execution_count": 10,
   "metadata": {},
   "outputs": [
    {
     "data": {
      "image/png": "[encoded data removed]",
      "text/plain": [
       "<Figure size 1600x720 with 1 Axes>"
      ]
     },
     "metadata": {},
     "output_type": "display_data"
    }
   ],
   "source": [
    "figure(figsize=(20, 9), dpi=80)\n",
    "plt.title('5-day average moving')\n",
    "plt.plot(df['dt'], df['5_day_ma'], color='#a12424', linestyle='--', marker='o')\n",
    "plt.tick_params(axis='x', rotation=90)\n",
    "plt.savefig(f'./graphics/5_day_average_moving_{last_day}.jpg')"
   ]
  }
 ],
 "metadata": {
  "kernelspec": {
   "display_name": "spark_test",
   "language": "python",
   "name": "python3"
  },
  "language_info": {
   "codemirror_mode": {
    "name": "ipython",
    "version": 3
   },
   "file_extension": ".py",
   "mimetype": "text/x-python",
   "name": "python",
   "nbconvert_exporter": "python",
   "pygments_lexer": "ipython3",
   "version": "3.10.16"
  }
 },
 "nbformat": 4,
 "nbformat_minor": 2
}
